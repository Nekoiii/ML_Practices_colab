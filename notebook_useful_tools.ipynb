{
  "nbformat": 4,
  "nbformat_minor": 0,
  "metadata": {
    "colab": {
      "provenance": [],
      "authorship_tag": "ABX9TyNCujka+nT6C3j4U3vYNk7A",
      "include_colab_link": true
    },
    "kernelspec": {
      "name": "python3",
      "display_name": "Python 3"
    },
    "language_info": {
      "name": "python"
    }
  },
  "cells": [
    {
      "cell_type": "markdown",
      "metadata": {
        "id": "view-in-github",
        "colab_type": "text"
      },
      "source": [
        "<a href=\"https://colab.research.google.com/github/Nekoiii/ML_Practices_colab/blob/main/notebook_useful_tools.ipynb\" target=\"_parent\"><img src=\"https://colab.research.google.com/assets/colab-badge.svg\" alt=\"Open In Colab\"/></a>"
      ]
    },
    {
      "cell_type": "code",
      "execution_count": null,
      "metadata": {
        "id": "wAkeRx3N50SJ"
      },
      "outputs": [],
      "source": [
        "# silence output logs\n",
        "%%capture"
      ]
    },
    {
      "cell_type": "code",
      "source": [
        "# 不运行这个cell\n",
        "%%script false --no-raise-error"
      ],
      "metadata": {
        "id": "Fxut-zoCG92V"
      },
      "execution_count": null,
      "outputs": []
    },
    {
      "cell_type": "code",
      "source": [
        "# Put output into a scrollable box\n",
        "from IPython.display import display, HTML\n",
        "\n",
        "# Define a function to create a scrollable frame.\n",
        "def create_scrollable_output(output, height='300px'):\n",
        "    display(HTML(\n",
        "        '<div style=\"max-height: {0}; overflow-y: auto;\"><pre>{1}</pre></div>'.format(height, output)\n",
        "    ))\n"
      ],
      "metadata": {
        "id": "KBJxPEz86Jek"
      },
      "execution_count": null,
      "outputs": []
    },
    {
      "cell_type": "code",
      "source": [
        "# Ignore warning\n",
        "import warnings\n",
        "warnings.filterwarnings(\"ignore\", category=UserWarning)"
      ],
      "metadata": {
        "id": "16Fdni9u6JcJ"
      },
      "execution_count": null,
      "outputs": []
    },
    {
      "cell_type": "code",
      "source": [
        "# 显示进度条的库\n",
        "from tqdm import tqdm"
      ],
      "metadata": {
        "id": "Glduw49m6JXs"
      },
      "execution_count": null,
      "outputs": []
    },
    {
      "cell_type": "code",
      "source": [
        "# Install nb_black for autoformatting\n",
        "!pip install nb_black --quiet\n",
        "%load_ext lab_black"
      ],
      "metadata": {
        "id": "Y5trAQyQf_d_"
      },
      "execution_count": null,
      "outputs": []
    },
    {
      "cell_type": "code",
      "source": [],
      "metadata": {
        "id": "dOPNU3tF6JVn"
      },
      "execution_count": null,
      "outputs": []
    },
    {
      "cell_type": "code",
      "source": [],
      "metadata": {
        "id": "7O-ubZ3m6JS1"
      },
      "execution_count": null,
      "outputs": []
    },
    {
      "cell_type": "code",
      "source": [],
      "metadata": {
        "id": "fF4vQdxD6JQk"
      },
      "execution_count": null,
      "outputs": []
    }
  ]
}