{
 "cells": [
  {
   "cell_type": "code",
   "execution_count": 1,
   "id": "469e2cf7",
   "metadata": {
    "_cell_guid": "b1076dfc-b9ad-4769-8c92-a6c4dae69d19",
    "_uuid": "8f2839f25d086af736a60e9eeb907d3b93b6e0e5",
    "execution": {
     "iopub.execute_input": "2023-07-15T12:49:17.187905Z",
     "iopub.status.busy": "2023-07-15T12:49:17.187161Z",
     "iopub.status.idle": "2023-07-15T12:49:17.619509Z",
     "shell.execute_reply": "2023-07-15T12:49:17.618596Z"
    },
    "papermill": {
     "duration": 0.441571,
     "end_time": "2023-07-15T12:49:17.622063",
     "exception": false,
     "start_time": "2023-07-15T12:49:17.180492",
     "status": "completed"
    },
    "tags": []
   },
   "outputs": [],
   "source": [
    "%%capture\n",
    "import os\n",
    "\n",
    "for dirname, _, filenames in os.walk('/kaggle/input'):\n",
    "    for filename in filenames:\n",
    "        print(os.path.join(dirname, filename));"
   ]
  },
  {
   "cell_type": "code",
   "execution_count": 2,
   "id": "5e44ab67",
   "metadata": {
    "execution": {
     "iopub.execute_input": "2023-07-15T12:49:17.633808Z",
     "iopub.status.busy": "2023-07-15T12:49:17.633186Z",
     "iopub.status.idle": "2023-07-15T12:49:17.637824Z",
     "shell.execute_reply": "2023-07-15T12:49:17.636646Z"
    },
    "papermill": {
     "duration": 0.013283,
     "end_time": "2023-07-15T12:49:17.640360",
     "exception": false,
     "start_time": "2023-07-15T12:49:17.627077",
     "status": "completed"
    },
    "tags": []
   },
   "outputs": [],
   "source": [
    "import numpy as np  \n",
    "import pandas as pd   \n",
    "import matplotlib.pyplot as plt\n",
    "from PIL import Image\n"
   ]
  },
  {
   "cell_type": "code",
   "execution_count": 3,
   "id": "d3f531e0",
   "metadata": {
    "execution": {
     "iopub.execute_input": "2023-07-15T12:49:17.651341Z",
     "iopub.status.busy": "2023-07-15T12:49:17.650890Z",
     "iopub.status.idle": "2023-07-15T12:49:17.656375Z",
     "shell.execute_reply": "2023-07-15T12:49:17.655209Z"
    },
    "papermill": {
     "duration": 0.01332,
     "end_time": "2023-07-15T12:49:17.658523",
     "exception": false,
     "start_time": "2023-07-15T12:49:17.645203",
     "status": "completed"
    },
    "tags": []
   },
   "outputs": [],
   "source": [
    "train_path = \"/kaggle/input/datasets-lemlitbang-sibi-alphabets/SIBI_datasets_LEMLITBANG_SIBI_R_90.10_V02/SIBI_datasets_LEMLITBANG_SIBI_R_90.10_V02/training/\"\n",
    "\n",
    "\n",
    "img_types = ['.jpg', '.png', '.jpeg']"
   ]
  },
  {
   "cell_type": "code",
   "execution_count": 4,
   "id": "094d57cd",
   "metadata": {
    "execution": {
     "iopub.execute_input": "2023-07-15T12:49:17.669759Z",
     "iopub.status.busy": "2023-07-15T12:49:17.668727Z",
     "iopub.status.idle": "2023-07-15T12:49:17.675010Z",
     "shell.execute_reply": "2023-07-15T12:49:17.674241Z"
    },
    "papermill": {
     "duration": 0.014223,
     "end_time": "2023-07-15T12:49:17.677332",
     "exception": false,
     "start_time": "2023-07-15T12:49:17.663109",
     "status": "completed"
    },
    "tags": []
   },
   "outputs": [],
   "source": [
    "# Put output into a scrollable box\n",
    "from IPython.display import display, HTML\n",
    "\n",
    "# Define a function to create a scrollable frame.\n",
    "def create_scrollable_output(output, height='300px'):\n",
    "    display(HTML(\n",
    "        '<div style=\"max-height: {0}; overflow-y: auto;\"><pre>{1}</pre></div>'.format(height, output)\n",
    "    ))\n",
    "\n",
    "# Generate some long output\n",
    "long_output = \"\\n\".join(str(i) for i in range(1000))\n"
   ]
  },
  {
   "cell_type": "code",
   "execution_count": 5,
   "id": "b4109e68",
   "metadata": {
    "execution": {
     "iopub.execute_input": "2023-07-15T12:49:17.689033Z",
     "iopub.status.busy": "2023-07-15T12:49:17.687714Z",
     "iopub.status.idle": "2023-07-15T12:49:30.992350Z",
     "shell.execute_reply": "2023-07-15T12:49:30.990943Z"
    },
    "papermill": {
     "duration": 13.312938,
     "end_time": "2023-07-15T12:49:30.994764",
     "exception": false,
     "start_time": "2023-07-15T12:49:17.681826",
     "status": "completed"
    },
    "tags": []
   },
   "outputs": [
    {
     "data": {
      "text/html": [
       "<div style=\"max-height: 300px; overflow-y: auto;\"><pre>Folder name: A\n",
       "Count: 42\n",
       "Width -  min: 750.0, max: 4208.0\n",
       "Height -  min: 1334.0, max: 4608.0\n",
       "------------------\n",
       "Folder name: B\n",
       "Count: 42\n",
       "Width -  min: 750.0, max: 4208.0\n",
       "Height -  min: 1334.0, max: 4608.0\n",
       "------------------\n",
       "Folder name: C\n",
       "Count: 42\n",
       "Width -  min: 750.0, max: 4208.0\n",
       "Height -  min: 1334.0, max: 4608.0\n",
       "------------------\n",
       "Folder name: D\n",
       "Count: 42\n",
       "Width -  min: 750.0, max: 4208.0\n",
       "Height -  min: 1334.0, max: 4608.0\n",
       "------------------\n",
       "Folder name: E\n",
       "Count: 42\n",
       "Width -  min: 750.0, max: 4208.0\n",
       "Height -  min: 1334.0, max: 4608.0\n",
       "------------------\n",
       "Folder name: F\n",
       "Count: 42\n",
       "Width -  min: 750.0, max: 4208.0\n",
       "Height -  min: 1334.0, max: 4608.0\n",
       "------------------\n",
       "Folder name: G\n",
       "Count: 42\n",
       "Width -  min: 750.0, max: 4208.0\n",
       "Height -  min: 1334.0, max: 4608.0\n",
       "------------------\n",
       "Folder name: H\n",
       "Count: 42\n",
       "Width -  min: 750.0, max: 4208.0\n",
       "Height -  min: 1334.0, max: 4608.0\n",
       "------------------\n",
       "Folder name: I\n",
       "Count: 46\n",
       "Width -  min: 750.0, max: 4208.0\n",
       "Height -  min: 1334.0, max: 4608.0\n",
       "------------------\n",
       "Folder name: J\n",
       "Count: 38\n",
       "Width -  min: 750.0, max: 4208.0\n",
       "Height -  min: 1334.0, max: 3264.0\n",
       "------------------\n",
       "Folder name: K\n",
       "Count: 42\n",
       "Width -  min: 750.0, max: 4208.0\n",
       "Height -  min: 1334.0, max: 4608.0\n",
       "------------------\n",
       "Folder name: L\n",
       "Count: 42\n",
       "Width -  min: 750.0, max: 4208.0\n",
       "Height -  min: 1334.0, max: 4608.0\n",
       "------------------\n",
       "Folder name: M\n",
       "Count: 42\n",
       "Width -  min: 750.0, max: 4208.0\n",
       "Height -  min: 1334.0, max: 4608.0\n",
       "------------------\n",
       "Folder name: N\n",
       "Count: 42\n",
       "Width -  min: 750.0, max: 4208.0\n",
       "Height -  min: 1334.0, max: 4608.0\n",
       "------------------\n",
       "Folder name: O\n",
       "Count: 42\n",
       "Width -  min: 750.0, max: 4208.0\n",
       "Height -  min: 1334.0, max: 4608.0\n",
       "------------------\n",
       "Folder name: P\n",
       "Count: 42\n",
       "Width -  min: 750.0, max: 4208.0\n",
       "Height -  min: 1334.0, max: 4608.0\n",
       "------------------\n",
       "Folder name: Q\n",
       "Count: 42\n",
       "Width -  min: 750.0, max: 4208.0\n",
       "Height -  min: 1334.0, max: 3264.0\n",
       "------------------\n",
       "Folder name: R\n",
       "Count: 42\n",
       "Width -  min: 750.0, max: 4208.0\n",
       "Height -  min: 1334.0, max: 4608.0\n",
       "------------------\n",
       "Folder name: S\n",
       "Count: 42\n",
       "Width -  min: 750.0, max: 4208.0\n",
       "Height -  min: 1334.0, max: 4608.0\n",
       "------------------\n",
       "Folder name: T\n",
       "Count: 42\n",
       "Width -  min: 750.0, max: 4208.0\n",
       "Height -  min: 1334.0, max: 4608.0\n",
       "------------------\n",
       "Folder name: U\n",
       "Count: 42\n",
       "Width -  min: 750.0, max: 4208.0\n",
       "Height -  min: 1334.0, max: 4608.0\n",
       "------------------\n",
       "Folder name: V\n",
       "Count: 42\n",
       "Width -  min: 750.0, max: 4208.0\n",
       "Height -  min: 1334.0, max: 4608.0\n",
       "------------------\n",
       "Folder name: W\n",
       "Count: 42\n",
       "Width -  min: 750.0, max: 4208.0\n",
       "Height -  min: 1334.0, max: 4608.0\n",
       "------------------\n",
       "Folder name: X\n",
       "Count: 42\n",
       "Width -  min: 750.0, max: 4208.0\n",
       "Height -  min: 1334.0, max: 4608.0\n",
       "------------------\n",
       "Folder name: Y\n",
       "Count: 42\n",
       "Width -  min: 750.0, max: 4208.0\n",
       "Height -  min: 1334.0, max: 4608.0\n",
       "------------------\n",
       "Folder name: Z\n",
       "Count: 42\n",
       "Width -  min: 750.0, max: 4208.0\n",
       "Height -  min: 1334.0, max: 3264.0\n",
       "------------------\n",
       "</pre></div>"
      ],
      "text/plain": [
       "<IPython.core.display.HTML object>"
      ]
     },
     "metadata": {},
     "output_type": "display_data"
    }
   ],
   "source": [
    "import warnings\n",
    "warnings.filterwarnings(\"ignore\", category=UserWarning)\n",
    "\n",
    "\n",
    "def traverse_folders(path):\n",
    "    output = \"\"\n",
    "    for folder_name in sorted(os.listdir(path)):\n",
    "        output += 'Folder name: ' + folder_name + \"\\n\"\n",
    "        \n",
    "        img_data = []\n",
    "        df = pd.DataFrame(columns=['path', 'width', 'height'])\n",
    "        \n",
    "        # * Don't forget .lower() !\n",
    "        image_files = [file_name for file_name in sorted(os.listdir(os.path.join(path, folder_name))) \n",
    "                       if file_name.lower().endswith(tuple(img_types))]\n",
    "        \n",
    "        #print(image_files)\n",
    "        \n",
    "        for image_file in image_files:\n",
    "            img_path=os.path.join(path, folder_name, image_file)\n",
    "            with Image.open(img_path) as img:\n",
    "                width, height = img.size\n",
    "            img_data.append({'path': img_path, 'width': width, 'height': height})        \n",
    "\n",
    "        df = pd.concat([df, pd.DataFrame(img_data)], ignore_index=True)\n",
    "        \n",
    "\n",
    "        #print(image_file,df['width'],df['height'])\n",
    "\n",
    "        width_desc = df['width'].astype(int).describe()\n",
    "        height_desc = df['height'].astype(int).describe()\n",
    "        \n",
    "        output += \"Count: {}\\n\".format(int(width_desc['count']))\n",
    "        output += \"Width -  min: {}, max: {}\\n\".format(width_desc['min'], width_desc['max'])\n",
    "        output += \"Height -  min: {}, max: {}\\n\".format(height_desc['min'], height_desc['max'])\n",
    "        output += '------------------\\n'\n",
    "    \n",
    "    return output\n",
    "\n",
    "scrollable_output = traverse_folders(train_path)\n",
    "create_scrollable_output(scrollable_output)\n"
   ]
  },
  {
   "cell_type": "code",
   "execution_count": 6,
   "id": "6bb2113b",
   "metadata": {
    "execution": {
     "iopub.execute_input": "2023-07-15T12:49:31.006682Z",
     "iopub.status.busy": "2023-07-15T12:49:31.006262Z",
     "iopub.status.idle": "2023-07-15T12:49:31.457552Z",
     "shell.execute_reply": "2023-07-15T12:49:31.456268Z"
    },
    "papermill": {
     "duration": 0.460195,
     "end_time": "2023-07-15T12:49:31.460159",
     "exception": false,
     "start_time": "2023-07-15T12:49:30.999964",
     "status": "completed"
    },
    "tags": []
   },
   "outputs": [
    {
     "data": {
      "image/png": "[encoded data removed]",
      "text/plain": [
       "<Figure size 1000x600 with 1 Axes>"
      ]
     },
     "metadata": {},
     "output_type": "display_data"
    }
   ],
   "source": [
    "categories = sorted(os.listdir(train_path))\n",
    "\n",
    "image_counts = [len([f for f in os.listdir(os.path.join(train_path, category)) \n",
    "                     if f.lower().endswith(tuple(img_types))]) for category in categories]\n",
    "\n",
    "plt.figure(figsize=(10,6)) \n",
    "plt.bar(categories, image_counts)\n",
    "plt.xlabel(\"Categories\")\n",
    "plt.ylabel(\"Number of images\")\n",
    "plt.title(\"Number of images in each category\")\n",
    "plt.show()\n"
   ]
  },
  {
   "cell_type": "code",
   "execution_count": 7,
   "id": "698401fb",
   "metadata": {
    "collapsed": true,
    "execution": {
     "iopub.execute_input": "2023-07-15T12:49:31.472582Z",
     "iopub.status.busy": "2023-07-15T12:49:31.471842Z",
     "iopub.status.idle": "2023-07-15T12:50:03.385527Z",
     "shell.execute_reply": "2023-07-15T12:50:03.384485Z"
    },
    "jupyter": {
     "outputs_hidden": true
    },
    "papermill": {
     "duration": 31.922858,
     "end_time": "2023-07-15T12:50:03.388206",
     "exception": false,
     "start_time": "2023-07-15T12:49:31.465348",
     "status": "completed"
    },
    "tags": []
   },
   "outputs": [
    {
     "name": "stdout",
     "output_type": "stream",
     "text": [
      "Begin to resize folder:  /kaggle/input/datasets-lemlitbang-sibi-alphabets/SIBI_datasets_LEMLITBANG_SIBI_R_90.10_V02/SIBI_datasets_LEMLITBANG_SIBI_R_90.10_V02/training/A\n",
      "Finished resize folder:  /kaggle/input/datasets-lemlitbang-sibi-alphabets/SIBI_datasets_LEMLITBANG_SIBI_R_90.10_V02/SIBI_datasets_LEMLITBANG_SIBI_R_90.10_V02/training/A\n",
      "Begin to resize folder:  /kaggle/input/datasets-lemlitbang-sibi-alphabets/SIBI_datasets_LEMLITBANG_SIBI_R_90.10_V02/SIBI_datasets_LEMLITBANG_SIBI_R_90.10_V02/training/B\n",
      "Finished resize folder:  /kaggle/input/datasets-lemlitbang-sibi-alphabets/SIBI_datasets_LEMLITBANG_SIBI_R_90.10_V02/SIBI_datasets_LEMLITBANG_SIBI_R_90.10_V02/training/B\n",
      "Begin to resize folder:  /kaggle/input/datasets-lemlitbang-sibi-alphabets/SIBI_datasets_LEMLITBANG_SIBI_R_90.10_V02/SIBI_datasets_LEMLITBANG_SIBI_R_90.10_V02/training/C\n",
      "Finished resize folder:  /kaggle/input/datasets-lemlitbang-sibi-alphabets/SIBI_datasets_LEMLITBANG_SIBI_R_90.10_V02/SIBI_datasets_LEMLITBANG_SIBI_R_90.10_V02/training/C\n",
      "Begin to resize folder:  /kaggle/input/datasets-lemlitbang-sibi-alphabets/SIBI_datasets_LEMLITBANG_SIBI_R_90.10_V02/SIBI_datasets_LEMLITBANG_SIBI_R_90.10_V02/training/D\n",
      "Finished resize folder:  /kaggle/input/datasets-lemlitbang-sibi-alphabets/SIBI_datasets_LEMLITBANG_SIBI_R_90.10_V02/SIBI_datasets_LEMLITBANG_SIBI_R_90.10_V02/training/D\n",
      "Begin to resize folder:  /kaggle/input/datasets-lemlitbang-sibi-alphabets/SIBI_datasets_LEMLITBANG_SIBI_R_90.10_V02/SIBI_datasets_LEMLITBANG_SIBI_R_90.10_V02/training/E\n",
      "Finished resize folder:  /kaggle/input/datasets-lemlitbang-sibi-alphabets/SIBI_datasets_LEMLITBANG_SIBI_R_90.10_V02/SIBI_datasets_LEMLITBANG_SIBI_R_90.10_V02/training/E\n",
      "Begin to resize folder:  /kaggle/input/datasets-lemlitbang-sibi-alphabets/SIBI_datasets_LEMLITBANG_SIBI_R_90.10_V02/SIBI_datasets_LEMLITBANG_SIBI_R_90.10_V02/training/F\n",
      "Finished resize folder:  /kaggle/input/datasets-lemlitbang-sibi-alphabets/SIBI_datasets_LEMLITBANG_SIBI_R_90.10_V02/SIBI_datasets_LEMLITBANG_SIBI_R_90.10_V02/training/F\n",
      "Begin to resize folder:  /kaggle/input/datasets-lemlitbang-sibi-alphabets/SIBI_datasets_LEMLITBANG_SIBI_R_90.10_V02/SIBI_datasets_LEMLITBANG_SIBI_R_90.10_V02/training/G\n",
      "Finished resize folder:  /kaggle/input/datasets-lemlitbang-sibi-alphabets/SIBI_datasets_LEMLITBANG_SIBI_R_90.10_V02/SIBI_datasets_LEMLITBANG_SIBI_R_90.10_V02/training/G\n",
      "Begin to resize folder:  /kaggle/input/datasets-lemlitbang-sibi-alphabets/SIBI_datasets_LEMLITBANG_SIBI_R_90.10_V02/SIBI_datasets_LEMLITBANG_SIBI_R_90.10_V02/training/H\n",
      "Finished resize folder:  /kaggle/input/datasets-lemlitbang-sibi-alphabets/SIBI_datasets_LEMLITBANG_SIBI_R_90.10_V02/SIBI_datasets_LEMLITBANG_SIBI_R_90.10_V02/training/H\n",
      "Begin to resize folder:  /kaggle/input/datasets-lemlitbang-sibi-alphabets/SIBI_datasets_LEMLITBANG_SIBI_R_90.10_V02/SIBI_datasets_LEMLITBANG_SIBI_R_90.10_V02/training/I\n",
      "Finished resize folder:  /kaggle/input/datasets-lemlitbang-sibi-alphabets/SIBI_datasets_LEMLITBANG_SIBI_R_90.10_V02/SIBI_datasets_LEMLITBANG_SIBI_R_90.10_V02/training/I\n",
      "Begin to resize folder:  /kaggle/input/datasets-lemlitbang-sibi-alphabets/SIBI_datasets_LEMLITBANG_SIBI_R_90.10_V02/SIBI_datasets_LEMLITBANG_SIBI_R_90.10_V02/training/J\n",
      "Finished resize folder:  /kaggle/input/datasets-lemlitbang-sibi-alphabets/SIBI_datasets_LEMLITBANG_SIBI_R_90.10_V02/SIBI_datasets_LEMLITBANG_SIBI_R_90.10_V02/training/J\n",
      "Begin to resize folder:  /kaggle/input/datasets-lemlitbang-sibi-alphabets/SIBI_datasets_LEMLITBANG_SIBI_R_90.10_V02/SIBI_datasets_LEMLITBANG_SIBI_R_90.10_V02/training/K\n",
      "Finished resize folder:  /kaggle/input/datasets-lemlitbang-sibi-alphabets/SIBI_datasets_LEMLITBANG_SIBI_R_90.10_V02/SIBI_datasets_LEMLITBANG_SIBI_R_90.10_V02/training/K\n",
      "Begin to resize folder:  /kaggle/input/datasets-lemlitbang-sibi-alphabets/SIBI_datasets_LEMLITBANG_SIBI_R_90.10_V02/SIBI_datasets_LEMLITBANG_SIBI_R_90.10_V02/training/L\n",
      "Finished resize folder:  /kaggle/input/datasets-lemlitbang-sibi-alphabets/SIBI_datasets_LEMLITBANG_SIBI_R_90.10_V02/SIBI_datasets_LEMLITBANG_SIBI_R_90.10_V02/training/L\n",
      "Begin to resize folder:  /kaggle/input/datasets-lemlitbang-sibi-alphabets/SIBI_datasets_LEMLITBANG_SIBI_R_90.10_V02/SIBI_datasets_LEMLITBANG_SIBI_R_90.10_V02/training/M\n",
      "Finished resize folder:  /kaggle/input/datasets-lemlitbang-sibi-alphabets/SIBI_datasets_LEMLITBANG_SIBI_R_90.10_V02/SIBI_datasets_LEMLITBANG_SIBI_R_90.10_V02/training/M\n",
      "Begin to resize folder:  /kaggle/input/datasets-lemlitbang-sibi-alphabets/SIBI_datasets_LEMLITBANG_SIBI_R_90.10_V02/SIBI_datasets_LEMLITBANG_SIBI_R_90.10_V02/training/N\n",
      "Finished resize folder:  /kaggle/input/datasets-lemlitbang-sibi-alphabets/SIBI_datasets_LEMLITBANG_SIBI_R_90.10_V02/SIBI_datasets_LEMLITBANG_SIBI_R_90.10_V02/training/N\n",
      "Begin to resize folder:  /kaggle/input/datasets-lemlitbang-sibi-alphabets/SIBI_datasets_LEMLITBANG_SIBI_R_90.10_V02/SIBI_datasets_LEMLITBANG_SIBI_R_90.10_V02/training/O\n",
      "Finished resize folder:  /kaggle/input/datasets-lemlitbang-sibi-alphabets/SIBI_datasets_LEMLITBANG_SIBI_R_90.10_V02/SIBI_datasets_LEMLITBANG_SIBI_R_90.10_V02/training/O\n",
      "Begin to resize folder:  /kaggle/input/datasets-lemlitbang-sibi-alphabets/SIBI_datasets_LEMLITBANG_SIBI_R_90.10_V02/SIBI_datasets_LEMLITBANG_SIBI_R_90.10_V02/training/P\n",
      "Finished resize folder:  /kaggle/input/datasets-lemlitbang-sibi-alphabets/SIBI_datasets_LEMLITBANG_SIBI_R_90.10_V02/SIBI_datasets_LEMLITBANG_SIBI_R_90.10_V02/training/P\n",
      "Begin to resize folder:  /kaggle/input/datasets-lemlitbang-sibi-alphabets/SIBI_datasets_LEMLITBANG_SIBI_R_90.10_V02/SIBI_datasets_LEMLITBANG_SIBI_R_90.10_V02/training/Q\n",
      "Finished resize folder:  /kaggle/input/datasets-lemlitbang-sibi-alphabets/SIBI_datasets_LEMLITBANG_SIBI_R_90.10_V02/SIBI_datasets_LEMLITBANG_SIBI_R_90.10_V02/training/Q\n",
      "Begin to resize folder:  /kaggle/input/datasets-lemlitbang-sibi-alphabets/SIBI_datasets_LEMLITBANG_SIBI_R_90.10_V02/SIBI_datasets_LEMLITBANG_SIBI_R_90.10_V02/training/R\n",
      "Finished resize folder:  /kaggle/input/datasets-lemlitbang-sibi-alphabets/SIBI_datasets_LEMLITBANG_SIBI_R_90.10_V02/SIBI_datasets_LEMLITBANG_SIBI_R_90.10_V02/training/R\n",
      "Begin to resize folder:  /kaggle/input/datasets-lemlitbang-sibi-alphabets/SIBI_datasets_LEMLITBANG_SIBI_R_90.10_V02/SIBI_datasets_LEMLITBANG_SIBI_R_90.10_V02/training/S\n",
      "Finished resize folder:  /kaggle/input/datasets-lemlitbang-sibi-alphabets/SIBI_datasets_LEMLITBANG_SIBI_R_90.10_V02/SIBI_datasets_LEMLITBANG_SIBI_R_90.10_V02/training/S\n",
      "Begin to resize folder:  /kaggle/input/datasets-lemlitbang-sibi-alphabets/SIBI_datasets_LEMLITBANG_SIBI_R_90.10_V02/SIBI_datasets_LEMLITBANG_SIBI_R_90.10_V02/training/T\n",
      "Finished resize folder:  /kaggle/input/datasets-lemlitbang-sibi-alphabets/SIBI_datasets_LEMLITBANG_SIBI_R_90.10_V02/SIBI_datasets_LEMLITBANG_SIBI_R_90.10_V02/training/T\n",
      "Begin to resize folder:  /kaggle/input/datasets-lemlitbang-sibi-alphabets/SIBI_datasets_LEMLITBANG_SIBI_R_90.10_V02/SIBI_datasets_LEMLITBANG_SIBI_R_90.10_V02/training/U\n",
      "Finished resize folder:  /kaggle/input/datasets-lemlitbang-sibi-alphabets/SIBI_datasets_LEMLITBANG_SIBI_R_90.10_V02/SIBI_datasets_LEMLITBANG_SIBI_R_90.10_V02/training/U\n",
      "Begin to resize folder:  /kaggle/input/datasets-lemlitbang-sibi-alphabets/SIBI_datasets_LEMLITBANG_SIBI_R_90.10_V02/SIBI_datasets_LEMLITBANG_SIBI_R_90.10_V02/training/V\n",
      "Finished resize folder:  /kaggle/input/datasets-lemlitbang-sibi-alphabets/SIBI_datasets_LEMLITBANG_SIBI_R_90.10_V02/SIBI_datasets_LEMLITBANG_SIBI_R_90.10_V02/training/V\n",
      "Begin to resize folder:  /kaggle/input/datasets-lemlitbang-sibi-alphabets/SIBI_datasets_LEMLITBANG_SIBI_R_90.10_V02/SIBI_datasets_LEMLITBANG_SIBI_R_90.10_V02/training/W\n",
      "Finished resize folder:  /kaggle/input/datasets-lemlitbang-sibi-alphabets/SIBI_datasets_LEMLITBANG_SIBI_R_90.10_V02/SIBI_datasets_LEMLITBANG_SIBI_R_90.10_V02/training/W\n",
      "Begin to resize folder:  /kaggle/input/datasets-lemlitbang-sibi-alphabets/SIBI_datasets_LEMLITBANG_SIBI_R_90.10_V02/SIBI_datasets_LEMLITBANG_SIBI_R_90.10_V02/training/X\n",
      "Finished resize folder:  /kaggle/input/datasets-lemlitbang-sibi-alphabets/SIBI_datasets_LEMLITBANG_SIBI_R_90.10_V02/SIBI_datasets_LEMLITBANG_SIBI_R_90.10_V02/training/X\n",
      "Begin to resize folder:  /kaggle/input/datasets-lemlitbang-sibi-alphabets/SIBI_datasets_LEMLITBANG_SIBI_R_90.10_V02/SIBI_datasets_LEMLITBANG_SIBI_R_90.10_V02/training/Y\n",
      "Finished resize folder:  /kaggle/input/datasets-lemlitbang-sibi-alphabets/SIBI_datasets_LEMLITBANG_SIBI_R_90.10_V02/SIBI_datasets_LEMLITBANG_SIBI_R_90.10_V02/training/Y\n",
      "Begin to resize folder:  /kaggle/input/datasets-lemlitbang-sibi-alphabets/SIBI_datasets_LEMLITBANG_SIBI_R_90.10_V02/SIBI_datasets_LEMLITBANG_SIBI_R_90.10_V02/training/Z\n",
      "Finished resize folder:  /kaggle/input/datasets-lemlitbang-sibi-alphabets/SIBI_datasets_LEMLITBANG_SIBI_R_90.10_V02/SIBI_datasets_LEMLITBANG_SIBI_R_90.10_V02/training/Z\n"
     ]
    }
   ],
   "source": [
    "output_resized_train_path = \"/kaggle/working/resized/resized_train\"\n",
    "\n",
    "def resize_images(image_dir, output_dir, size=(224, 224)):\n",
    "    if not os.path.exists(output_dir):\n",
    "        os.makedirs(output_dir, exist_ok=True)\n",
    "    \n",
    "    \n",
    "    for category in sorted(os.listdir(image_dir)):\n",
    "        category_dir = os.path.join(image_dir, category)\n",
    "        output_category_dir = os.path.join(output_dir, category)\n",
    "        \n",
    "        if not os.path.exists(output_category_dir):\n",
    "            os.mkdir(output_category_dir)\n",
    "            \n",
    "        print('Begin to resize folder: ',category_dir)\n",
    "        for image_name in os.listdir(category_dir):\n",
    "            if image_name.lower().endswith(('.jpg', '.png', '.jpeg')):\n",
    "                image_path = os.path.join(category_dir, image_name)\n",
    "                img = Image.open(image_path)\n",
    "                # thumbnail v.s resize : https://stackoverflow.com/questions/29367990/what-is-the-difference-between-image-resize-and-image-thumbnail-in-pillow-python\n",
    "                img.thumbnail(size, Image.LANCZOS)\n",
    "                \n",
    "                new_img = Image.new(\"RGB\", size)  # create a new black image\n",
    "                new_img.paste(img, ((size[0] - img.size[0]) // 2,\n",
    "                                  (size[1] - img.size[1]) // 2))  # paste resized image into center of new image\n",
    "                \n",
    "                new_img.save(os.path.join(output_category_dir, image_name))\n",
    "        print('Finished resize folder: ',category_dir)\n",
    "# 使用方法示例\n",
    "resize_images(train_path, output_resized_train_path)\n"
   ]
  },
  {
   "cell_type": "code",
   "execution_count": 8,
   "id": "a6190f38",
   "metadata": {
    "execution": {
     "iopub.execute_input": "2023-07-15T12:50:03.405262Z",
     "iopub.status.busy": "2023-07-15T12:50:03.404841Z",
     "iopub.status.idle": "2023-07-15T12:50:03.554190Z",
     "shell.execute_reply": "2023-07-15T12:50:03.552938Z"
    },
    "papermill": {
     "duration": 0.160725,
     "end_time": "2023-07-15T12:50:03.556566",
     "exception": false,
     "start_time": "2023-07-15T12:50:03.395841",
     "status": "completed"
    },
    "tags": []
   },
   "outputs": [
    {
     "name": "stdout",
     "output_type": "stream",
     "text": [
      "Minimum width:  224   Minimum height:  224\n",
      "Maximum width:  224   Maximum height:  224\n"
     ]
    }
   ],
   "source": [
    "from PIL import Image\n",
    "import os\n",
    "\n",
    "def get_min_max_size(path):\n",
    "\n",
    "    folders = sorted([folder for folder in os.listdir(path)])\n",
    "\n",
    "    min_width, min_height = float('inf'), float('inf')\n",
    "    max_width, max_height = 0, 0\n",
    "\n",
    "    for folder_name in folders:\n",
    "        image_files = [file_name for file_name in os.listdir(os.path.join(path, folder_name)) \n",
    "                       if file_name.lower().endswith(tuple(img_types))]\n",
    "\n",
    "        for image_file in image_files:\n",
    "            with Image.open(os.path.join(path, folder_name, image_file)) as img:\n",
    "                width, height = img.size\n",
    "\n",
    "                min_width = min(min_width, width)\n",
    "                min_height = min(min_height, height)\n",
    "                max_width = max(max_width, width)\n",
    "                max_height = max(max_height, height)\n",
    "\n",
    "    print(\"Minimum width: \", min_width, \"  Minimum height: \", min_height)\n",
    "    print(\"Maximum width: \", max_width, \"  Maximum height: \", max_height)\n",
    "    \n",
    "get_min_max_size(output_resized_train_path)"
   ]
  },
  {
   "cell_type": "code",
   "execution_count": null,
   "id": "f829531e",
   "metadata": {
    "papermill": {
     "duration": 0.00761,
     "end_time": "2023-07-15T12:50:03.572121",
     "exception": false,
     "start_time": "2023-07-15T12:50:03.564511",
     "status": "completed"
    },
    "tags": []
   },
   "outputs": [],
   "source": []
  },
  {
   "cell_type": "code",
   "execution_count": null,
   "id": "6040273c",
   "metadata": {
    "papermill": {
     "duration": 0.007561,
     "end_time": "2023-07-15T12:50:03.587491",
     "exception": false,
     "start_time": "2023-07-15T12:50:03.579930",
     "status": "completed"
    },
    "tags": []
   },
   "outputs": [],
   "source": []
  },
  {
   "cell_type": "code",
   "execution_count": null,
   "id": "b1904725",
   "metadata": {
    "papermill": {
     "duration": 0.008955,
     "end_time": "2023-07-15T12:50:03.604102",
     "exception": false,
     "start_time": "2023-07-15T12:50:03.595147",
     "status": "completed"
    },
    "tags": []
   },
   "outputs": [],
   "source": []
  }
 ],
 "metadata": {
  "kernelspec": {
   "display_name": "Python 3",
   "language": "python",
   "name": "python3"
  },
  "language_info": {
   "codemirror_mode": {
    "name": "ipython",
    "version": 3
   },
   "file_extension": ".py",
   "mimetype": "text/x-python",
   "name": "python",
   "nbconvert_exporter": "python",
   "pygments_lexer": "ipython3",
   "version": "3.10.12"
  },
  "papermill": {
   "default_parameters": {},
   "duration": 58.461135,
   "end_time": "2023-07-15T12:50:04.434080",
   "environment_variables": {},
   "exception": null,
   "input_path": "__notebook__.ipynb",
   "output_path": "__notebook__.ipynb",
   "parameters": {},
   "start_time": "2023-07-15T12:49:05.972945",
   "version": "2.4.0"
  }
 },
 "nbformat": 4,
 "nbformat_minor": 5
}
