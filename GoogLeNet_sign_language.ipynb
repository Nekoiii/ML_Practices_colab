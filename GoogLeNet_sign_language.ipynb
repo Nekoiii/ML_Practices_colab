{
 "cells": [
  {
   "cell_type": "code",
   "execution_count": 1,
   "id": "76d99908",
   "metadata": {
    "_cell_guid": "b1076dfc-b9ad-4769-8c92-a6c4dae69d19",
    "_uuid": "8f2839f25d086af736a60e9eeb907d3b93b6e0e5",
    "execution": {
     "iopub.execute_input": "2023-07-16T08:07:23.375066Z",
     "iopub.status.busy": "2023-07-16T08:07:23.374671Z",
     "iopub.status.idle": "2023-07-16T08:07:24.304380Z",
     "shell.execute_reply": "2023-07-16T08:07:24.303385Z"
    },
    "papermill": {
     "duration": 0.940838,
     "end_time": "2023-07-16T08:07:24.306869",
     "exception": false,
     "start_time": "2023-07-16T08:07:23.366031",
     "status": "completed"
    },
    "tags": []
   },
   "outputs": [],
   "source": [
    "%%capture\n",
    "import os\n",
    "\n",
    "for dirname, _, filenames in os.walk('/kaggle/input'):\n",
    "    for filename in filenames:\n",
    "        print(os.path.join(dirname, filename));"
   ]
  },
  {
   "cell_type": "code",
   "execution_count": 2,
   "id": "c9152d6c",
   "metadata": {
    "execution": {
     "iopub.execute_input": "2023-07-16T08:07:24.321142Z",
     "iopub.status.busy": "2023-07-16T08:07:24.320839Z",
     "iopub.status.idle": "2023-07-16T08:07:24.325238Z",
     "shell.execute_reply": "2023-07-16T08:07:24.324313Z"
    },
    "papermill": {
     "duration": 0.013823,
     "end_time": "2023-07-16T08:07:24.327517",
     "exception": false,
     "start_time": "2023-07-16T08:07:24.313694",
     "status": "completed"
    },
    "tags": []
   },
   "outputs": [],
   "source": [
    "import numpy as np  \n",
    "import pandas as pd   \n",
    "import matplotlib.pyplot as plt\n",
    "from PIL import Image\n"
   ]
  },
  {
   "cell_type": "code",
   "execution_count": 3,
   "id": "ef85ea99",
   "metadata": {
    "execution": {
     "iopub.execute_input": "2023-07-16T08:07:24.341902Z",
     "iopub.status.busy": "2023-07-16T08:07:24.341614Z",
     "iopub.status.idle": "2023-07-16T08:07:24.346030Z",
     "shell.execute_reply": "2023-07-16T08:07:24.344975Z"
    },
    "papermill": {
     "duration": 0.014525,
     "end_time": "2023-07-16T08:07:24.348485",
     "exception": false,
     "start_time": "2023-07-16T08:07:24.333960",
     "status": "completed"
    },
    "tags": []
   },
   "outputs": [],
   "source": [
    "train_path = \"/kaggle/input/datasets-lemlitbang-sibi-alphabets/SIBI_datasets_LEMLITBANG_SIBI_R_90.10_V02/SIBI_datasets_LEMLITBANG_SIBI_R_90.10_V02/training/\"\n",
    "\n",
    "\n",
    "img_types = ['.jpg', '.png', '.jpeg']"
   ]
  },
  {
   "cell_type": "code",
   "execution_count": 4,
   "id": "d9be7f62",
   "metadata": {
    "execution": {
     "iopub.execute_input": "2023-07-16T08:07:24.361853Z",
     "iopub.status.busy": "2023-07-16T08:07:24.361605Z",
     "iopub.status.idle": "2023-07-16T08:07:24.367640Z",
     "shell.execute_reply": "2023-07-16T08:07:24.366703Z"
    },
    "papermill": {
     "duration": 0.014917,
     "end_time": "2023-07-16T08:07:24.369664",
     "exception": false,
     "start_time": "2023-07-16T08:07:24.354747",
     "status": "completed"
    },
    "tags": []
   },
   "outputs": [],
   "source": [
    "# Put output into a scrollable box\n",
    "from IPython.display import display, HTML\n",
    "\n",
    "def create_scrollable_output(output, height='300px'):\n",
    "    display(HTML(\n",
    "        '<div style=\"max-height: {0}; overflow-y: auto;\"><pre>{1}</pre></div>'.format(height, output)\n",
    "    ))"
   ]
  },
  {
   "cell_type": "code",
   "execution_count": 5,
   "id": "4c100502",
   "metadata": {
    "execution": {
     "iopub.execute_input": "2023-07-16T08:07:24.383319Z",
     "iopub.status.busy": "2023-07-16T08:07:24.382860Z",
     "iopub.status.idle": "2023-07-16T08:07:37.072595Z",
     "shell.execute_reply": "2023-07-16T08:07:37.071410Z"
    },
    "papermill": {
     "duration": 12.699856,
     "end_time": "2023-07-16T08:07:37.075760",
     "exception": false,
     "start_time": "2023-07-16T08:07:24.375904",
     "status": "completed"
    },
    "tags": []
   },
   "outputs": [
    {
     "data": {
      "text/html": [
       "<div style=\"max-height: 300px; overflow-y: auto;\"><pre>Folder name: A\n",
       "Count: 42\n",
       "Width -  min: 750.0, max: 4208.0\n",
       "Height -  min: 1334.0, max: 4608.0\n",
       "------------------\n",
       "Folder name: B\n",
       "Count: 42\n",
       "Width -  min: 750.0, max: 4208.0\n",
       "Height -  min: 1334.0, max: 4608.0\n",
       "------------------\n",
       "Folder name: C\n",
       "Count: 42\n",
       "Width -  min: 750.0, max: 4208.0\n",
       "Height -  min: 1334.0, max: 4608.0\n",
       "------------------\n",
       "Folder name: D\n",
       "Count: 42\n",
       "Width -  min: 750.0, max: 4208.0\n",
       "Height -  min: 1334.0, max: 4608.0\n",
       "------------------\n",
       "Folder name: E\n",
       "Count: 42\n",
       "Width -  min: 750.0, max: 4208.0\n",
       "Height -  min: 1334.0, max: 4608.0\n",
       "------------------\n",
       "Folder name: F\n",
       "Count: 42\n",
       "Width -  min: 750.0, max: 4208.0\n",
       "Height -  min: 1334.0, max: 4608.0\n",
       "------------------\n",
       "Folder name: G\n",
       "Count: 42\n",
       "Width -  min: 750.0, max: 4208.0\n",
       "Height -  min: 1334.0, max: 4608.0\n",
       "------------------\n",
       "Folder name: H\n",
       "Count: 42\n",
       "Width -  min: 750.0, max: 4208.0\n",
       "Height -  min: 1334.0, max: 4608.0\n",
       "------------------\n",
       "Folder name: I\n",
       "Count: 46\n",
       "Width -  min: 750.0, max: 4208.0\n",
       "Height -  min: 1334.0, max: 4608.0\n",
       "------------------\n",
       "Folder name: J\n",
       "Count: 38\n",
       "Width -  min: 750.0, max: 4208.0\n",
       "Height -  min: 1334.0, max: 3264.0\n",
       "------------------\n",
       "Folder name: K\n",
       "Count: 42\n",
       "Width -  min: 750.0, max: 4208.0\n",
       "Height -  min: 1334.0, max: 4608.0\n",
       "------------------\n",
       "Folder name: L\n",
       "Count: 42\n",
       "Width -  min: 750.0, max: 4208.0\n",
       "Height -  min: 1334.0, max: 4608.0\n",
       "------------------\n",
       "Folder name: M\n",
       "Count: 42\n",
       "Width -  min: 750.0, max: 4208.0\n",
       "Height -  min: 1334.0, max: 4608.0\n",
       "------------------\n",
       "Folder name: N\n",
       "Count: 42\n",
       "Width -  min: 750.0, max: 4208.0\n",
       "Height -  min: 1334.0, max: 4608.0\n",
       "------------------\n",
       "Folder name: O\n",
       "Count: 42\n",
       "Width -  min: 750.0, max: 4208.0\n",
       "Height -  min: 1334.0, max: 4608.0\n",
       "------------------\n",
       "Folder name: P\n",
       "Count: 42\n",
       "Width -  min: 750.0, max: 4208.0\n",
       "Height -  min: 1334.0, max: 4608.0\n",
       "------------------\n",
       "Folder name: Q\n",
       "Count: 42\n",
       "Width -  min: 750.0, max: 4208.0\n",
       "Height -  min: 1334.0, max: 3264.0\n",
       "------------------\n",
       "Folder name: R\n",
       "Count: 42\n",
       "Width -  min: 750.0, max: 4208.0\n",
       "Height -  min: 1334.0, max: 4608.0\n",
       "------------------\n",
       "Folder name: S\n",
       "Count: 42\n",
       "Width -  min: 750.0, max: 4208.0\n",
       "Height -  min: 1334.0, max: 4608.0\n",
       "------------------\n",
       "Folder name: T\n",
       "Count: 42\n",
       "Width -  min: 750.0, max: 4208.0\n",
       "Height -  min: 1334.0, max: 4608.0\n",
       "------------------\n",
       "Folder name: U\n",
       "Count: 42\n",
       "Width -  min: 750.0, max: 4208.0\n",
       "Height -  min: 1334.0, max: 4608.0\n",
       "------------------\n",
       "Folder name: V\n",
       "Count: 42\n",
       "Width -  min: 750.0, max: 4208.0\n",
       "Height -  min: 1334.0, max: 4608.0\n",
       "------------------\n",
       "Folder name: W\n",
       "Count: 42\n",
       "Width -  min: 750.0, max: 4208.0\n",
       "Height -  min: 1334.0, max: 4608.0\n",
       "------------------\n",
       "Folder name: X\n",
       "Count: 42\n",
       "Width -  min: 750.0, max: 4208.0\n",
       "Height -  min: 1334.0, max: 4608.0\n",
       "------------------\n",
       "Folder name: Y\n",
       "Count: 42\n",
       "Width -  min: 750.0, max: 4208.0\n",
       "Height -  min: 1334.0, max: 4608.0\n",
       "------------------\n",
       "Folder name: Z\n",
       "Count: 42\n",
       "Width -  min: 750.0, max: 4208.0\n",
       "Height -  min: 1334.0, max: 3264.0\n",
       "------------------\n",
       "</pre></div>"
      ],
      "text/plain": [
       "<IPython.core.display.HTML object>"
      ]
     },
     "metadata": {},
     "output_type": "display_data"
    }
   ],
   "source": [
    "import warnings\n",
    "warnings.filterwarnings(\"ignore\", category=UserWarning)\n",
    "\n",
    "def traverse_folders(path):\n",
    "    output = \"\"\n",
    "    for folder_name in sorted(os.listdir(path)):\n",
    "        output += 'Folder name: ' + folder_name + \"\\n\"\n",
    "        \n",
    "        img_data = []\n",
    "        df = pd.DataFrame(columns=['path', 'width', 'height'])\n",
    "        \n",
    "        # * Don't forget .lower() !\n",
    "        image_files = [file_name for file_name in sorted(os.listdir(os.path.join(path, folder_name))) \n",
    "                       if file_name.lower().endswith(tuple(img_types))]\n",
    "        \n",
    "        #print(image_files)\n",
    "        \n",
    "        for image_file in image_files:\n",
    "            img_path=os.path.join(path, folder_name, image_file)\n",
    "            with Image.open(img_path) as img:\n",
    "                width, height = img.size\n",
    "            img_data.append({'path': img_path, 'width': width, 'height': height})        \n",
    "\n",
    "        df = pd.concat([df, pd.DataFrame(img_data)], ignore_index=True)\n",
    "        \n",
    "\n",
    "        #print(image_file,df['width'],df['height'])\n",
    "\n",
    "        width_desc = df['width'].astype(int).describe()\n",
    "        height_desc = df['height'].astype(int).describe()\n",
    "        \n",
    "        output += \"Count: {}\\n\".format(int(width_desc['count']))\n",
    "        output += \"Width -  min: {}, max: {}\\n\".format(width_desc['min'], width_desc['max'])\n",
    "        output += \"Height -  min: {}, max: {}\\n\".format(height_desc['min'], height_desc['max'])\n",
    "        output += '------------------\\n'\n",
    "    \n",
    "    return output\n",
    "\n",
    "scrollable_output = traverse_folders(train_path)\n",
    "create_scrollable_output(scrollable_output)\n"
   ]
  },
  {
   "cell_type": "code",
   "execution_count": 6,
   "id": "53b44d44",
   "metadata": {
    "execution": {
     "iopub.execute_input": "2023-07-16T08:07:37.093365Z",
     "iopub.status.busy": "2023-07-16T08:07:37.093030Z",
     "iopub.status.idle": "2023-07-16T08:07:37.564017Z",
     "shell.execute_reply": "2023-07-16T08:07:37.563085Z"
    },
    "papermill": {
     "duration": 0.482025,
     "end_time": "2023-07-16T08:07:37.566320",
     "exception": false,
     "start_time": "2023-07-16T08:07:37.084295",
     "status": "completed"
    },
    "tags": []
   },
   "outputs": [
    {
     "data": {
      "image/png": "[encoded data removed]",
      "text/plain": [
       "<Figure size 1000x600 with 1 Axes>"
      ]
     },
     "metadata": {},
     "output_type": "display_data"
    }
   ],
   "source": [
    "path=train_path\n",
    "#path='/kaggle/working/val'\n",
    "\n",
    "\n",
    "categories = sorted(os.listdir(path))\n",
    "\n",
    "image_counts = [len([f for f in os.listdir(os.path.join(path, category)) \n",
    "                     if f.lower().endswith(tuple(img_types))]) for category in categories]\n",
    "\n",
    "plt.figure(figsize=(10,6)) \n",
    "plt.bar(categories, image_counts)\n",
    "plt.xlabel(\"Categories\")\n",
    "plt.ylabel(\"Number of images\")\n",
    "plt.title(\"Number of images in each category\")\n",
    "plt.show()\n"
   ]
  },
  {
   "cell_type": "code",
   "execution_count": 7,
   "id": "12b6a181",
   "metadata": {
    "execution": {
     "iopub.execute_input": "2023-07-16T08:07:37.581857Z",
     "iopub.status.busy": "2023-07-16T08:07:37.581565Z",
     "iopub.status.idle": "2023-07-16T08:08:06.263918Z",
     "shell.execute_reply": "2023-07-16T08:08:06.262444Z"
    },
    "papermill": {
     "duration": 28.69259,
     "end_time": "2023-07-16T08:08:06.266240",
     "exception": false,
     "start_time": "2023-07-16T08:07:37.573650",
     "status": "completed"
    },
    "tags": []
   },
   "outputs": [
    {
     "name": "stdout",
     "output_type": "stream",
     "text": [
      "Begin to resize folder:  /kaggle/input/datasets-lemlitbang-sibi-alphabets/SIBI_datasets_LEMLITBANG_SIBI_R_90.10_V02/SIBI_datasets_LEMLITBANG_SIBI_R_90.10_V02/training/A\n",
      "Finished resize folder:  /kaggle/input/datasets-lemlitbang-sibi-alphabets/SIBI_datasets_LEMLITBANG_SIBI_R_90.10_V02/SIBI_datasets_LEMLITBANG_SIBI_R_90.10_V02/training/A\n",
      "Begin to resize folder:  /kaggle/input/datasets-lemlitbang-sibi-alphabets/SIBI_datasets_LEMLITBANG_SIBI_R_90.10_V02/SIBI_datasets_LEMLITBANG_SIBI_R_90.10_V02/training/B\n",
      "Finished resize folder:  /kaggle/input/datasets-lemlitbang-sibi-alphabets/SIBI_datasets_LEMLITBANG_SIBI_R_90.10_V02/SIBI_datasets_LEMLITBANG_SIBI_R_90.10_V02/training/B\n",
      "Begin to resize folder:  /kaggle/input/datasets-lemlitbang-sibi-alphabets/SIBI_datasets_LEMLITBANG_SIBI_R_90.10_V02/SIBI_datasets_LEMLITBANG_SIBI_R_90.10_V02/training/C\n",
      "Finished resize folder:  /kaggle/input/datasets-lemlitbang-sibi-alphabets/SIBI_datasets_LEMLITBANG_SIBI_R_90.10_V02/SIBI_datasets_LEMLITBANG_SIBI_R_90.10_V02/training/C\n",
      "Begin to resize folder:  /kaggle/input/datasets-lemlitbang-sibi-alphabets/SIBI_datasets_LEMLITBANG_SIBI_R_90.10_V02/SIBI_datasets_LEMLITBANG_SIBI_R_90.10_V02/training/D\n",
      "Finished resize folder:  /kaggle/input/datasets-lemlitbang-sibi-alphabets/SIBI_datasets_LEMLITBANG_SIBI_R_90.10_V02/SIBI_datasets_LEMLITBANG_SIBI_R_90.10_V02/training/D\n",
      "Begin to resize folder:  /kaggle/input/datasets-lemlitbang-sibi-alphabets/SIBI_datasets_LEMLITBANG_SIBI_R_90.10_V02/SIBI_datasets_LEMLITBANG_SIBI_R_90.10_V02/training/E\n",
      "Finished resize folder:  /kaggle/input/datasets-lemlitbang-sibi-alphabets/SIBI_datasets_LEMLITBANG_SIBI_R_90.10_V02/SIBI_datasets_LEMLITBANG_SIBI_R_90.10_V02/training/E\n",
      "Begin to resize folder:  /kaggle/input/datasets-lemlitbang-sibi-alphabets/SIBI_datasets_LEMLITBANG_SIBI_R_90.10_V02/SIBI_datasets_LEMLITBANG_SIBI_R_90.10_V02/training/F\n",
      "Finished resize folder:  /kaggle/input/datasets-lemlitbang-sibi-alphabets/SIBI_datasets_LEMLITBANG_SIBI_R_90.10_V02/SIBI_datasets_LEMLITBANG_SIBI_R_90.10_V02/training/F\n",
      "Begin to resize folder:  /kaggle/input/datasets-lemlitbang-sibi-alphabets/SIBI_datasets_LEMLITBANG_SIBI_R_90.10_V02/SIBI_datasets_LEMLITBANG_SIBI_R_90.10_V02/training/G\n",
      "Finished resize folder:  /kaggle/input/datasets-lemlitbang-sibi-alphabets/SIBI_datasets_LEMLITBANG_SIBI_R_90.10_V02/SIBI_datasets_LEMLITBANG_SIBI_R_90.10_V02/training/G\n",
      "Begin to resize folder:  /kaggle/input/datasets-lemlitbang-sibi-alphabets/SIBI_datasets_LEMLITBANG_SIBI_R_90.10_V02/SIBI_datasets_LEMLITBANG_SIBI_R_90.10_V02/training/H\n",
      "Finished resize folder:  /kaggle/input/datasets-lemlitbang-sibi-alphabets/SIBI_datasets_LEMLITBANG_SIBI_R_90.10_V02/SIBI_datasets_LEMLITBANG_SIBI_R_90.10_V02/training/H\n",
      "Begin to resize folder:  /kaggle/input/datasets-lemlitbang-sibi-alphabets/SIBI_datasets_LEMLITBANG_SIBI_R_90.10_V02/SIBI_datasets_LEMLITBANG_SIBI_R_90.10_V02/training/I\n",
      "Finished resize folder:  /kaggle/input/datasets-lemlitbang-sibi-alphabets/SIBI_datasets_LEMLITBANG_SIBI_R_90.10_V02/SIBI_datasets_LEMLITBANG_SIBI_R_90.10_V02/training/I\n",
      "Begin to resize folder:  /kaggle/input/datasets-lemlitbang-sibi-alphabets/SIBI_datasets_LEMLITBANG_SIBI_R_90.10_V02/SIBI_datasets_LEMLITBANG_SIBI_R_90.10_V02/training/J\n",
      "Finished resize folder:  /kaggle/input/datasets-lemlitbang-sibi-alphabets/SIBI_datasets_LEMLITBANG_SIBI_R_90.10_V02/SIBI_datasets_LEMLITBANG_SIBI_R_90.10_V02/training/J\n",
      "Begin to resize folder:  /kaggle/input/datasets-lemlitbang-sibi-alphabets/SIBI_datasets_LEMLITBANG_SIBI_R_90.10_V02/SIBI_datasets_LEMLITBANG_SIBI_R_90.10_V02/training/K\n",
      "Finished resize folder:  /kaggle/input/datasets-lemlitbang-sibi-alphabets/SIBI_datasets_LEMLITBANG_SIBI_R_90.10_V02/SIBI_datasets_LEMLITBANG_SIBI_R_90.10_V02/training/K\n",
      "Begin to resize folder:  /kaggle/input/datasets-lemlitbang-sibi-alphabets/SIBI_datasets_LEMLITBANG_SIBI_R_90.10_V02/SIBI_datasets_LEMLITBANG_SIBI_R_90.10_V02/training/L\n",
      "Finished resize folder:  /kaggle/input/datasets-lemlitbang-sibi-alphabets/SIBI_datasets_LEMLITBANG_SIBI_R_90.10_V02/SIBI_datasets_LEMLITBANG_SIBI_R_90.10_V02/training/L\n",
      "Begin to resize folder:  /kaggle/input/datasets-lemlitbang-sibi-alphabets/SIBI_datasets_LEMLITBANG_SIBI_R_90.10_V02/SIBI_datasets_LEMLITBANG_SIBI_R_90.10_V02/training/M\n",
      "Finished resize folder:  /kaggle/input/datasets-lemlitbang-sibi-alphabets/SIBI_datasets_LEMLITBANG_SIBI_R_90.10_V02/SIBI_datasets_LEMLITBANG_SIBI_R_90.10_V02/training/M\n",
      "Begin to resize folder:  /kaggle/input/datasets-lemlitbang-sibi-alphabets/SIBI_datasets_LEMLITBANG_SIBI_R_90.10_V02/SIBI_datasets_LEMLITBANG_SIBI_R_90.10_V02/training/N\n",
      "Finished resize folder:  /kaggle/input/datasets-lemlitbang-sibi-alphabets/SIBI_datasets_LEMLITBANG_SIBI_R_90.10_V02/SIBI_datasets_LEMLITBANG_SIBI_R_90.10_V02/training/N\n",
      "Begin to resize folder:  /kaggle/input/datasets-lemlitbang-sibi-alphabets/SIBI_datasets_LEMLITBANG_SIBI_R_90.10_V02/SIBI_datasets_LEMLITBANG_SIBI_R_90.10_V02/training/O\n",
      "Finished resize folder:  /kaggle/input/datasets-lemlitbang-sibi-alphabets/SIBI_datasets_LEMLITBANG_SIBI_R_90.10_V02/SIBI_datasets_LEMLITBANG_SIBI_R_90.10_V02/training/O\n",
      "Begin to resize folder:  /kaggle/input/datasets-lemlitbang-sibi-alphabets/SIBI_datasets_LEMLITBANG_SIBI_R_90.10_V02/SIBI_datasets_LEMLITBANG_SIBI_R_90.10_V02/training/P\n",
      "Finished resize folder:  /kaggle/input/datasets-lemlitbang-sibi-alphabets/SIBI_datasets_LEMLITBANG_SIBI_R_90.10_V02/SIBI_datasets_LEMLITBANG_SIBI_R_90.10_V02/training/P\n",
      "Begin to resize folder:  /kaggle/input/datasets-lemlitbang-sibi-alphabets/SIBI_datasets_LEMLITBANG_SIBI_R_90.10_V02/SIBI_datasets_LEMLITBANG_SIBI_R_90.10_V02/training/Q\n",
      "Finished resize folder:  /kaggle/input/datasets-lemlitbang-sibi-alphabets/SIBI_datasets_LEMLITBANG_SIBI_R_90.10_V02/SIBI_datasets_LEMLITBANG_SIBI_R_90.10_V02/training/Q\n",
      "Begin to resize folder:  /kaggle/input/datasets-lemlitbang-sibi-alphabets/SIBI_datasets_LEMLITBANG_SIBI_R_90.10_V02/SIBI_datasets_LEMLITBANG_SIBI_R_90.10_V02/training/R\n",
      "Finished resize folder:  /kaggle/input/datasets-lemlitbang-sibi-alphabets/SIBI_datasets_LEMLITBANG_SIBI_R_90.10_V02/SIBI_datasets_LEMLITBANG_SIBI_R_90.10_V02/training/R\n",
      "Begin to resize folder:  /kaggle/input/datasets-lemlitbang-sibi-alphabets/SIBI_datasets_LEMLITBANG_SIBI_R_90.10_V02/SIBI_datasets_LEMLITBANG_SIBI_R_90.10_V02/training/S\n",
      "Finished resize folder:  /kaggle/input/datasets-lemlitbang-sibi-alphabets/SIBI_datasets_LEMLITBANG_SIBI_R_90.10_V02/SIBI_datasets_LEMLITBANG_SIBI_R_90.10_V02/training/S\n",
      "Begin to resize folder:  /kaggle/input/datasets-lemlitbang-sibi-alphabets/SIBI_datasets_LEMLITBANG_SIBI_R_90.10_V02/SIBI_datasets_LEMLITBANG_SIBI_R_90.10_V02/training/T\n",
      "Finished resize folder:  /kaggle/input/datasets-lemlitbang-sibi-alphabets/SIBI_datasets_LEMLITBANG_SIBI_R_90.10_V02/SIBI_datasets_LEMLITBANG_SIBI_R_90.10_V02/training/T\n",
      "Begin to resize folder:  /kaggle/input/datasets-lemlitbang-sibi-alphabets/SIBI_datasets_LEMLITBANG_SIBI_R_90.10_V02/SIBI_datasets_LEMLITBANG_SIBI_R_90.10_V02/training/U\n",
      "Finished resize folder:  /kaggle/input/datasets-lemlitbang-sibi-alphabets/SIBI_datasets_LEMLITBANG_SIBI_R_90.10_V02/SIBI_datasets_LEMLITBANG_SIBI_R_90.10_V02/training/U\n",
      "Begin to resize folder:  /kaggle/input/datasets-lemlitbang-sibi-alphabets/SIBI_datasets_LEMLITBANG_SIBI_R_90.10_V02/SIBI_datasets_LEMLITBANG_SIBI_R_90.10_V02/training/V\n",
      "Finished resize folder:  /kaggle/input/datasets-lemlitbang-sibi-alphabets/SIBI_datasets_LEMLITBANG_SIBI_R_90.10_V02/SIBI_datasets_LEMLITBANG_SIBI_R_90.10_V02/training/V\n",
      "Begin to resize folder:  /kaggle/input/datasets-lemlitbang-sibi-alphabets/SIBI_datasets_LEMLITBANG_SIBI_R_90.10_V02/SIBI_datasets_LEMLITBANG_SIBI_R_90.10_V02/training/W\n",
      "Finished resize folder:  /kaggle/input/datasets-lemlitbang-sibi-alphabets/SIBI_datasets_LEMLITBANG_SIBI_R_90.10_V02/SIBI_datasets_LEMLITBANG_SIBI_R_90.10_V02/training/W\n",
      "Begin to resize folder:  /kaggle/input/datasets-lemlitbang-sibi-alphabets/SIBI_datasets_LEMLITBANG_SIBI_R_90.10_V02/SIBI_datasets_LEMLITBANG_SIBI_R_90.10_V02/training/X\n",
      "Finished resize folder:  /kaggle/input/datasets-lemlitbang-sibi-alphabets/SIBI_datasets_LEMLITBANG_SIBI_R_90.10_V02/SIBI_datasets_LEMLITBANG_SIBI_R_90.10_V02/training/X\n",
      "Begin to resize folder:  /kaggle/input/datasets-lemlitbang-sibi-alphabets/SIBI_datasets_LEMLITBANG_SIBI_R_90.10_V02/SIBI_datasets_LEMLITBANG_SIBI_R_90.10_V02/training/Y\n",
      "Finished resize folder:  /kaggle/input/datasets-lemlitbang-sibi-alphabets/SIBI_datasets_LEMLITBANG_SIBI_R_90.10_V02/SIBI_datasets_LEMLITBANG_SIBI_R_90.10_V02/training/Y\n",
      "Begin to resize folder:  /kaggle/input/datasets-lemlitbang-sibi-alphabets/SIBI_datasets_LEMLITBANG_SIBI_R_90.10_V02/SIBI_datasets_LEMLITBANG_SIBI_R_90.10_V02/training/Z\n",
      "Finished resize folder:  /kaggle/input/datasets-lemlitbang-sibi-alphabets/SIBI_datasets_LEMLITBANG_SIBI_R_90.10_V02/SIBI_datasets_LEMLITBANG_SIBI_R_90.10_V02/training/Z\n"
     ]
    }
   ],
   "source": [
    "output_resized_train_path = \"./kaggle/working/resized/resized_train\"\n",
    "\n",
    "def resize_images(image_dir, output_dir, size=(224, 224)):\n",
    "    if not os.path.exists(output_dir):\n",
    "        os.makedirs(output_dir, exist_ok=True)\n",
    "    \n",
    "    \n",
    "    for category in sorted(os.listdir(image_dir)):\n",
    "        category_dir = os.path.join(image_dir, category)\n",
    "        output_category_dir = os.path.join(output_dir, category)\n",
    "        \n",
    "        if not os.path.exists(output_category_dir):\n",
    "            os.mkdir(output_category_dir)\n",
    "            \n",
    "        print('Begin to resize folder: ',category_dir)\n",
    "        for image_name in os.listdir(category_dir):\n",
    "            if image_name.lower().endswith(tuple(img_types)):\n",
    "                image_path = os.path.join(category_dir, image_name)\n",
    "                img = Image.open(image_path)\n",
    "                # thumbnail v.s resize : https://stackoverflow.com/questions/29367990/what-is-the-difference-between-image-resize-and-image-thumbnail-in-pillow-python\n",
    "                img.thumbnail(size, Image.LANCZOS)\n",
    "                \n",
    "                new_img = Image.new(\"RGB\", size)  # create a new black image\n",
    "                new_img.paste(img, ((size[0] - img.size[0]) // 2,\n",
    "                                  (size[1] - img.size[1]) // 2))  # paste resized image into center of new image\n",
    "                \n",
    "                new_img.save(os.path.join(output_category_dir, image_name))\n",
    "        print('Finished resize folder: ',category_dir)\n",
    "\n",
    "resize_images(train_path, output_resized_train_path)\n"
   ]
  },
  {
   "cell_type": "code",
   "execution_count": 8,
   "id": "b61651db",
   "metadata": {
    "execution": {
     "iopub.execute_input": "2023-07-16T08:08:06.286848Z",
     "iopub.status.busy": "2023-07-16T08:08:06.286551Z",
     "iopub.status.idle": "2023-07-16T08:08:06.424517Z",
     "shell.execute_reply": "2023-07-16T08:08:06.423412Z"
    },
    "papermill": {
     "duration": 0.151394,
     "end_time": "2023-07-16T08:08:06.427182",
     "exception": false,
     "start_time": "2023-07-16T08:08:06.275788",
     "status": "completed"
    },
    "tags": []
   },
   "outputs": [
    {
     "name": "stdout",
     "output_type": "stream",
     "text": [
      "Minimum width:  224   Minimum height:  224\n",
      "Maximum width:  224   Maximum height:  224\n"
     ]
    }
   ],
   "source": [
    "from PIL import Image\n",
    "import os\n",
    "\n",
    "def get_min_max_size(path):\n",
    "\n",
    "    folders = sorted([folder for folder in os.listdir(path)])\n",
    "\n",
    "    min_width, min_height = float('inf'), float('inf')\n",
    "    max_width, max_height = 0, 0\n",
    "\n",
    "    for folder_name in folders:\n",
    "        image_files = [file_name for file_name in os.listdir(os.path.join(path, folder_name)) \n",
    "                       if file_name.lower().endswith(tuple(img_types))]\n",
    "\n",
    "        for image_file in image_files:\n",
    "            with Image.open(os.path.join(path, folder_name, image_file)) as img:\n",
    "                width, height = img.size\n",
    "\n",
    "                min_width = min(min_width, width)\n",
    "                min_height = min(min_height, height)\n",
    "                max_width = max(max_width, width)\n",
    "                max_height = max(max_height, height)\n",
    "\n",
    "    print(\"Minimum width: \", min_width, \"  Minimum height: \", min_height)\n",
    "    print(\"Maximum width: \", max_width, \"  Maximum height: \", max_height)\n",
    "    \n",
    "get_min_max_size(output_resized_train_path)"
   ]
  },
  {
   "cell_type": "code",
   "execution_count": 9,
   "id": "f88c10e2",
   "metadata": {
    "execution": {
     "iopub.execute_input": "2023-07-16T08:08:06.447643Z",
     "iopub.status.busy": "2023-07-16T08:08:06.446784Z",
     "iopub.status.idle": "2023-07-16T08:08:06.489651Z",
     "shell.execute_reply": "2023-07-16T08:08:06.488293Z"
    },
    "papermill": {
     "duration": 0.055096,
     "end_time": "2023-07-16T08:08:06.491674",
     "exception": false,
     "start_time": "2023-07-16T08:08:06.436578",
     "status": "completed"
    },
    "tags": []
   },
   "outputs": [
    {
     "name": "stdout",
     "output_type": "stream",
     "text": [
      "Finished splitting dataset\n"
     ]
    }
   ],
   "source": [
    "import shutil\n",
    "\n",
    "def create_symlinks(source_dir, target_dir, file_names):\n",
    "    os.makedirs(target_dir, exist_ok=True)\n",
    "    for file_name in file_names:\n",
    "        source_path = os.path.join(source_dir, file_name)\n",
    "        target_path = os.path.join(target_dir, file_name)\n",
    "        os.symlink(source_path, target_path)\n",
    "\n",
    "def split_dataset(base_dir, train_target_dir, val_target_dir, val_ratio=0.2):\n",
    "    # If target directories exist, remove them\n",
    "    if os.path.exists(train_target_dir):\n",
    "        shutil.rmtree(train_target_dir)\n",
    "    if os.path.exists(val_target_dir):\n",
    "        shutil.rmtree(val_target_dir)\n",
    "        \n",
    "    # Get the categories (A-Z)\n",
    "    categories = os.listdir(base_dir)\n",
    "    for category in categories:\n",
    "        source_dir = os.path.join(base_dir, category)\n",
    "        train_target_category_dir = os.path.join(train_target_dir, category)\n",
    "        val_target_category_dir = os.path.join(val_target_dir, category)\n",
    "\n",
    "        file_names = [f for f in os.listdir(source_dir) if f.lower().endswith(tuple(img_types))]\n",
    "        np.random.shuffle(file_names)\n",
    "        val_count = int(len(file_names) * val_ratio)\n",
    "        val_file_names = file_names[:val_count]\n",
    "        train_file_names = file_names[val_count:]\n",
    "\n",
    "        create_symlinks(source_dir, train_target_category_dir, train_file_names)\n",
    "        create_symlinks(source_dir, val_target_category_dir, val_file_names)\n",
    "    print('Finished splitting dataset')\n",
    "\n",
    "split_dataset(output_resized_train_path, '/kaggle/working/train', '/kaggle/working/val')\n"
   ]
  },
  {
   "cell_type": "code",
   "execution_count": 10,
   "id": "60097ca3",
   "metadata": {
    "execution": {
     "iopub.execute_input": "2023-07-16T08:08:06.510864Z",
     "iopub.status.busy": "2023-07-16T08:08:06.510590Z",
     "iopub.status.idle": "2023-07-16T08:08:06.661583Z",
     "shell.execute_reply": "2023-07-16T08:08:06.660690Z"
    },
    "papermill": {
     "duration": 0.163156,
     "end_time": "2023-07-16T08:08:06.663730",
     "exception": false,
     "start_time": "2023-07-16T08:08:06.500574",
     "status": "completed"
    },
    "tags": []
   },
   "outputs": [],
   "source": [
    "import os\n",
    "import shutil\n",
    "import numpy as np\n",
    "\n",
    "# 原始图片文件夹路径\n",
    "base_dir = output_resized_train_path \n",
    "\n",
    "# 创建训练和验证文件夹\n",
    "train_dir = '/kaggle/working/train'\n",
    "val_dir = '/kaggle/working/val'\n",
    "os.makedirs(train_dir, exist_ok=True)\n",
    "os.makedirs(val_dir, exist_ok=True)\n",
    "\n",
    "split_ratio = 0.8\n",
    "\n",
    "# If target directories exist, remove them\n",
    "if os.path.exists(train_dir):\n",
    "    shutil.rmtree(train_dir)\n",
    "if os.path.exists(val_dir):\n",
    "    shutil.rmtree(val_dir)\n",
    "    \n",
    "for category in os.listdir(base_dir):\n",
    "    category_dir = os.path.join(base_dir, category)\n",
    "    train_category_dir = os.path.join(train_dir, category)\n",
    "    val_category_dir = os.path.join(val_dir, category)\n",
    "    \n",
    "    os.makedirs(train_category_dir, exist_ok=True)\n",
    "    os.makedirs(val_category_dir, exist_ok=True)\n",
    "    \n",
    "    images = [f for f in os.listdir(category_dir) if f.lower().endswith(tuple(img_types))]\n",
    "    np.random.shuffle(images)\n",
    "    \n",
    "    train_images = images[:int(len(images)*split_ratio)]\n",
    "    val_images = images[int(len(images)*split_ratio):]\n",
    "\n",
    "    for img in train_images:\n",
    "        shutil.copy(os.path.join(category_dir, img), os.path.join(train_category_dir, img))\n",
    "    \n",
    "    for img in val_images:\n",
    "        shutil.copy(os.path.join(category_dir, img), os.path.join(val_category_dir, img))\n"
   ]
  },
  {
   "cell_type": "code",
   "execution_count": 11,
   "id": "24ab1622",
   "metadata": {
    "execution": {
     "iopub.execute_input": "2023-07-16T08:08:06.683275Z",
     "iopub.status.busy": "2023-07-16T08:08:06.682388Z",
     "iopub.status.idle": "2023-07-16T08:08:10.805955Z",
     "shell.execute_reply": "2023-07-16T08:08:10.804930Z"
    },
    "papermill": {
     "duration": 4.136091,
     "end_time": "2023-07-16T08:08:10.808619",
     "exception": false,
     "start_time": "2023-07-16T08:08:06.672528",
     "status": "completed"
    },
    "tags": []
   },
   "outputs": [],
   "source": [
    "import torch\n",
    "import torch.nn as nn\n",
    "import torch.optim as optim\n",
    "from torch.optim import lr_scheduler\n",
    "import torchvision\n",
    "from torchvision import datasets, models, transforms\n"
   ]
  },
  {
   "cell_type": "code",
   "execution_count": 12,
   "id": "c45cf897",
   "metadata": {
    "execution": {
     "iopub.execute_input": "2023-07-16T08:08:10.829535Z",
     "iopub.status.busy": "2023-07-16T08:08:10.828434Z",
     "iopub.status.idle": "2023-07-16T08:08:10.835537Z",
     "shell.execute_reply": "2023-07-16T08:08:10.834564Z"
    },
    "papermill": {
     "duration": 0.019328,
     "end_time": "2023-07-16T08:08:10.837602",
     "exception": false,
     "start_time": "2023-07-16T08:08:10.818274",
     "status": "completed"
    },
    "tags": []
   },
   "outputs": [],
   "source": [
    "# Data augmentation and normalization for training\n",
    "# Just normalization for validation\n",
    "data_transforms = {\n",
    "    'train': transforms.Compose([\n",
    "        transforms.RandomResizedCrop(224),\n",
    "        transforms.RandomHorizontalFlip(),\n",
    "        transforms.ToTensor(),\n",
    "        transforms.Normalize([0.485, 0.456, 0.406], [0.229, 0.224, 0.225])\n",
    "    ]),\n",
    "    'val': transforms.Compose([\n",
    "        transforms.Resize(256),\n",
    "        transforms.CenterCrop(224),\n",
    "        transforms.ToTensor(),\n",
    "        transforms.Normalize([0.485, 0.456, 0.406], [0.229, 0.224, 0.225])\n",
    "    ]),\n",
    "}\n"
   ]
  },
  {
   "cell_type": "code",
   "execution_count": 13,
   "id": "97f29c5d",
   "metadata": {
    "execution": {
     "iopub.execute_input": "2023-07-16T08:08:10.859812Z",
     "iopub.status.busy": "2023-07-16T08:08:10.858978Z",
     "iopub.status.idle": "2023-07-16T08:08:10.972141Z",
     "shell.execute_reply": "2023-07-16T08:08:10.971206Z"
    },
    "papermill": {
     "duration": 0.127452,
     "end_time": "2023-07-16T08:08:10.974393",
     "exception": false,
     "start_time": "2023-07-16T08:08:10.846941",
     "status": "completed"
    },
    "tags": []
   },
   "outputs": [],
   "source": [
    "data_dir = '/kaggle/working'  # Adjust to your path\n",
    "image_datasets = {x: datasets.ImageFolder(os.path.join(data_dir, x), data_transforms[x]) for x in ['train', 'val']}\n",
    "dataloaders = {x: torch.utils.data.DataLoader(image_datasets[x], batch_size=4, shuffle=True, num_workers=4) for x in ['train', 'val']}\n",
    "dataset_sizes = {x: len(image_datasets[x]) for x in ['train', 'val']}\n",
    "class_names = image_datasets['train'].classes\n",
    "device = torch.device(\"cuda:0\" if torch.cuda.is_available() else \"cpu\")\n"
   ]
  },
  {
   "cell_type": "code",
   "execution_count": 14,
   "id": "93d3699a",
   "metadata": {
    "execution": {
     "iopub.execute_input": "2023-07-16T08:08:10.994005Z",
     "iopub.status.busy": "2023-07-16T08:08:10.993716Z",
     "iopub.status.idle": "2023-07-16T08:08:14.792732Z",
     "shell.execute_reply": "2023-07-16T08:08:14.791733Z"
    },
    "papermill": {
     "duration": 3.811501,
     "end_time": "2023-07-16T08:08:14.795135",
     "exception": false,
     "start_time": "2023-07-16T08:08:10.983634",
     "status": "completed"
    },
    "tags": []
   },
   "outputs": [
    {
     "name": "stderr",
     "output_type": "stream",
     "text": [
      "Downloading: \"https://download.pytorch.org/models/googlenet-1378be20.pth\" to /root/.cache/torch/hub/checkpoints/googlenet-1378be20.pth\n",
      "100%|██████████| 49.7M/49.7M [00:00<00:00, 168MB/s]\n"
     ]
    }
   ],
   "source": [
    "from torchvision.models import GoogLeNet_Weights\n",
    "\n",
    "model_ft = models.googlenet(weights=(\"pretrained\", GoogLeNet_Weights.IMAGENET1K_V1))\n",
    "\n",
    "num_ftrs = model_ft.fc.in_features\n",
    "# Here the size of each output sample is set to be the number of classes\n",
    "model_ft.fc = nn.Linear(num_ftrs, len(class_names))\n",
    "model_ft = model_ft.to(device)\n"
   ]
  },
  {
   "cell_type": "code",
   "execution_count": 15,
   "id": "cb9d2709",
   "metadata": {
    "execution": {
     "iopub.execute_input": "2023-07-16T08:08:14.816768Z",
     "iopub.status.busy": "2023-07-16T08:08:14.816443Z",
     "iopub.status.idle": "2023-07-16T08:08:14.823351Z",
     "shell.execute_reply": "2023-07-16T08:08:14.822226Z"
    },
    "papermill": {
     "duration": 0.020525,
     "end_time": "2023-07-16T08:08:14.825808",
     "exception": false,
     "start_time": "2023-07-16T08:08:14.805283",
     "status": "completed"
    },
    "tags": []
   },
   "outputs": [],
   "source": [
    "criterion = nn.CrossEntropyLoss()\n",
    "\n",
    "# Observe that all parameters are being optimized\n",
    "optimizer_ft = optim.SGD(model_ft.parameters(), lr=0.001, momentum=0.9)\n",
    "\n",
    "# Decay LR by a factor of 0.1 every 7 epochs\n",
    "exp_lr_scheduler = lr_scheduler.StepLR(optimizer_ft, step_size=7, gamma=0.1)\n"
   ]
  },
  {
   "cell_type": "code",
   "execution_count": 16,
   "id": "968d96cb",
   "metadata": {
    "execution": {
     "iopub.execute_input": "2023-07-16T08:08:14.846430Z",
     "iopub.status.busy": "2023-07-16T08:08:14.845926Z",
     "iopub.status.idle": "2023-07-16T08:08:14.859276Z",
     "shell.execute_reply": "2023-07-16T08:08:14.858466Z"
    },
    "papermill": {
     "duration": 0.026081,
     "end_time": "2023-07-16T08:08:14.861418",
     "exception": false,
     "start_time": "2023-07-16T08:08:14.835337",
     "status": "completed"
    },
    "tags": []
   },
   "outputs": [],
   "source": [
    "import os\n",
    "import copy\n",
    "import time\n",
    "import numpy as np\n",
    "import torch\n",
    "import torch.nn as nn\n",
    "import torch.optim as optim\n",
    "from torch.optim import lr_scheduler\n",
    "import torchvision\n",
    "from torchvision import datasets, models, transforms\n",
    "\n",
    "\n",
    "def train_model(model, criterion, optimizer, scheduler, num_epochs=25):\n",
    "    since = time.time()\n",
    "\n",
    "    best_model_wts = copy.deepcopy(model.state_dict())\n",
    "    best_acc = 0.0\n",
    "\n",
    "    for epoch in range(num_epochs):\n",
    "        print('Epoch {}/{}'.format(epoch, num_epochs - 1))\n",
    "        print('-' * 10)\n",
    "\n",
    "        # Each epoch has a training and validation phase\n",
    "        for phase in ['train', 'val']:\n",
    "            if phase == 'train':\n",
    "                model.train()  # Set model to training mode\n",
    "            else:\n",
    "                model.eval()   # Set model to evaluate mode\n",
    "\n",
    "            running_loss = 0.0\n",
    "            running_corrects = 0\n",
    "\n",
    "            # Iterate over data.\n",
    "            for inputs, labels in dataloaders[phase]:\n",
    "                inputs = inputs.to(device)\n",
    "                labels = labels.to(device)\n",
    "\n",
    "                # zero the parameter gradients\n",
    "                optimizer.zero_grad()\n",
    "\n",
    "                # forward\n",
    "                # track history if only in train\n",
    "                with torch.set_grad_enabled(phase == 'train'):\n",
    "                    outputs = model(inputs)\n",
    "                    _, preds = torch.max(outputs, 1)\n",
    "                    loss = criterion(outputs, labels)\n",
    "\n",
    "                    # backward + optimize only if in training phase\n",
    "                    if phase == 'train':\n",
    "                        loss.backward()\n",
    "                        optimizer.step()\n",
    "\n",
    "                # statistics\n",
    "                running_loss += loss.item() * inputs.size(0)\n",
    "                running_corrects += torch.sum(preds == labels.data)\n",
    "            if phase == 'train':\n",
    "                scheduler.step()\n",
    "\n",
    "            epoch_loss = running_loss / dataset_sizes[phase]\n",
    "            epoch_acc = running_corrects.double() / dataset_sizes[phase]\n",
    "\n",
    "            print('{} Loss: {:.4f} Acc: {:.4f}'.format(\n",
    "                phase, epoch_loss, epoch_acc))\n",
    "\n",
    "            # deep copy the model\n",
    "            if phase == 'val' and epoch_acc > best_acc:\n",
    "                best_acc = epoch_acc\n",
    "                best_model_wts = copy.deepcopy(model.state_dict())\n",
    "\n",
    "        print()\n",
    "\n",
    "    time_elapsed = time.time() - since\n",
    "    print('Training complete in {:.0f}m {:.0f}s'.format(\n",
    "        time_elapsed // 60, time_elapsed % 60))\n",
    "    print('Best val Acc: {:4f}'.format(best_acc))\n",
    "\n",
    "    # load best model weights\n",
    "    model.load_state_dict(best_model_wts)\n",
    "    return model\n"
   ]
  },
  {
   "cell_type": "code",
   "execution_count": 17,
   "id": "6d805887",
   "metadata": {
    "execution": {
     "iopub.execute_input": "2023-07-16T08:08:14.881318Z",
     "iopub.status.busy": "2023-07-16T08:08:14.880708Z",
     "iopub.status.idle": "2023-07-16T08:12:20.035900Z",
     "shell.execute_reply": "2023-07-16T08:12:20.034047Z"
    },
    "papermill": {
     "duration": 245.167591,
     "end_time": "2023-07-16T08:12:20.038341",
     "exception": false,
     "start_time": "2023-07-16T08:08:14.870750",
     "status": "completed"
    },
    "tags": []
   },
   "outputs": [
    {
     "name": "stdout",
     "output_type": "stream",
     "text": [
      "Epoch 0/24\n",
      "----------\n",
      "train Loss: 3.2919 Acc: 0.0559\n",
      "val Loss: 3.1332 Acc: 0.0855\n",
      "\n",
      "Epoch 1/24\n",
      "----------\n",
      "train Loss: 3.0550 Acc: 0.1235\n",
      "val Loss: 2.6103 Acc: 0.2650\n",
      "\n",
      "Epoch 2/24\n",
      "----------\n",
      "train Loss: 2.6885 Acc: 0.2366\n",
      "val Loss: 2.0451 Acc: 0.3590\n",
      "\n",
      "Epoch 3/24\n",
      "----------\n",
      "train Loss: 2.4109 Acc: 0.3030\n",
      "val Loss: 1.5281 Acc: 0.5171\n",
      "\n",
      "Epoch 4/24\n",
      "----------\n",
      "train Loss: 2.0992 Acc: 0.4126\n",
      "val Loss: 1.4198 Acc: 0.5385\n",
      "\n",
      "Epoch 5/24\n",
      "----------\n",
      "train Loss: 1.8942 Acc: 0.4615\n",
      "val Loss: 1.1267 Acc: 0.6197\n",
      "\n",
      "Epoch 6/24\n",
      "----------\n",
      "train Loss: 1.7180 Acc: 0.5350\n",
      "val Loss: 1.0161 Acc: 0.6709\n",
      "\n",
      "Epoch 7/24\n",
      "----------\n",
      "train Loss: 1.5397 Acc: 0.5618\n",
      "val Loss: 0.9040 Acc: 0.6966\n",
      "\n",
      "Epoch 8/24\n",
      "----------\n",
      "train Loss: 1.5539 Acc: 0.5956\n",
      "val Loss: 0.8725 Acc: 0.7308\n",
      "\n",
      "Epoch 9/24\n",
      "----------\n",
      "train Loss: 1.4829 Acc: 0.6189\n",
      "val Loss: 0.8079 Acc: 0.7607\n",
      "\n",
      "Epoch 10/24\n",
      "----------\n",
      "train Loss: 1.3963 Acc: 0.6375\n",
      "val Loss: 0.8335 Acc: 0.7308\n",
      "\n",
      "Epoch 11/24\n",
      "----------\n",
      "train Loss: 1.4096 Acc: 0.6375\n",
      "val Loss: 0.8424 Acc: 0.7607\n",
      "\n",
      "Epoch 12/24\n",
      "----------\n",
      "train Loss: 1.3533 Acc: 0.6632\n",
      "val Loss: 0.7618 Acc: 0.7564\n",
      "\n",
      "Epoch 13/24\n",
      "----------\n",
      "train Loss: 1.3559 Acc: 0.6527\n",
      "val Loss: 0.7806 Acc: 0.7650\n",
      "\n",
      "Epoch 14/24\n",
      "----------\n",
      "train Loss: 1.3755 Acc: 0.6399\n",
      "val Loss: 0.7727 Acc: 0.7607\n",
      "\n",
      "Epoch 15/24\n",
      "----------\n",
      "train Loss: 1.3522 Acc: 0.6527\n",
      "val Loss: 0.7370 Acc: 0.7863\n",
      "\n",
      "Epoch 16/24\n",
      "----------\n",
      "train Loss: 1.3371 Acc: 0.6655\n",
      "val Loss: 0.7690 Acc: 0.7564\n",
      "\n",
      "Epoch 17/24\n",
      "----------\n",
      "train Loss: 1.3577 Acc: 0.6399\n",
      "val Loss: 0.7935 Acc: 0.7607\n",
      "\n",
      "Epoch 18/24\n",
      "----------\n",
      "train Loss: 1.3136 Acc: 0.6678\n",
      "val Loss: 0.8022 Acc: 0.7607\n",
      "\n",
      "Epoch 19/24\n",
      "----------\n",
      "train Loss: 1.3333 Acc: 0.6503\n",
      "val Loss: 0.7735 Acc: 0.7735\n",
      "\n",
      "Epoch 20/24\n",
      "----------\n",
      "train Loss: 1.2680 Acc: 0.6795\n",
      "val Loss: 0.7279 Acc: 0.7778\n",
      "\n",
      "Epoch 21/24\n",
      "----------\n",
      "train Loss: 1.3578 Acc: 0.6550\n",
      "val Loss: 0.7781 Acc: 0.7692\n",
      "\n",
      "Epoch 22/24\n",
      "----------\n",
      "train Loss: 1.3181 Acc: 0.6772\n",
      "val Loss: 0.7455 Acc: 0.7650\n",
      "\n",
      "Epoch 23/24\n",
      "----------\n",
      "train Loss: 1.3460 Acc: 0.6585\n",
      "val Loss: 0.7807 Acc: 0.7692\n",
      "\n",
      "Epoch 24/24\n",
      "----------\n",
      "train Loss: 1.2899 Acc: 0.6748\n",
      "val Loss: 0.7502 Acc: 0.7650\n",
      "\n",
      "Training complete in 4m 5s\n",
      "Best val Acc: 0.786325\n"
     ]
    }
   ],
   "source": [
    "model_ft = train_model(model_ft, criterion, optimizer_ft, exp_lr_scheduler, num_epochs=25)\n"
   ]
  },
  {
   "cell_type": "code",
   "execution_count": 18,
   "id": "ce2d839e",
   "metadata": {
    "execution": {
     "iopub.execute_input": "2023-07-16T08:12:20.067086Z",
     "iopub.status.busy": "2023-07-16T08:12:20.066198Z",
     "iopub.status.idle": "2023-07-16T08:12:20.238961Z",
     "shell.execute_reply": "2023-07-16T08:12:20.237943Z"
    },
    "papermill": {
     "duration": 0.189291,
     "end_time": "2023-07-16T08:12:20.241225",
     "exception": false,
     "start_time": "2023-07-16T08:12:20.051934",
     "status": "completed"
    },
    "tags": []
   },
   "outputs": [
    {
     "name": "stdout",
     "output_type": "stream",
     "text": [
      "Predicted class:  N\n"
     ]
    }
   ],
   "source": [
    "\n",
    "# Ensure the model is in eval mode\n",
    "model_ft.eval()\n",
    "\n",
    "# Open the image\n",
    "img = Image.open('/kaggle/input/datasets-lemlitbang-sibi-alphabets/SIBI_datasets_LEMLITBANG_SIBI_R_90.10_V02/SIBI_datasets_LEMLITBANG_SIBI_R_90.10_V02/test/N (4).jpg')\n",
    "\n",
    "# Preprocess the image\n",
    "img_transformed = data_transforms['val'](img)\n",
    "img_transformed = img_transformed.unsqueeze(0).to(device)\n",
    "\n",
    "# Make a prediction\n",
    "out = model_ft(img_transformed)\n",
    "\n",
    "# Get the predicted class\n",
    "_, preds = torch.max(out, 1)\n",
    "\n",
    "print(\"Predicted class: \", class_names[preds.item()])\n"
   ]
  },
  {
   "cell_type": "code",
   "execution_count": null,
   "id": "d1d45cee",
   "metadata": {
    "papermill": {
     "duration": 0.013496,
     "end_time": "2023-07-16T08:12:20.268493",
     "exception": false,
     "start_time": "2023-07-16T08:12:20.254997",
     "status": "completed"
    },
    "tags": []
   },
   "outputs": [],
   "source": []
  },
  {
   "cell_type": "code",
   "execution_count": null,
   "id": "c19e2f78",
   "metadata": {
    "papermill": {
     "duration": 0.012824,
     "end_time": "2023-07-16T08:12:20.294591",
     "exception": false,
     "start_time": "2023-07-16T08:12:20.281767",
     "status": "completed"
    },
    "tags": []
   },
   "outputs": [],
   "source": []
  },
  {
   "cell_type": "code",
   "execution_count": null,
   "id": "889b146d",
   "metadata": {
    "papermill": {
     "duration": 0.013149,
     "end_time": "2023-07-16T08:12:20.320827",
     "exception": false,
     "start_time": "2023-07-16T08:12:20.307678",
     "status": "completed"
    },
    "tags": []
   },
   "outputs": [],
   "source": []
  }
 ],
 "metadata": {
  "kernelspec": {
   "display_name": "Python 3",
   "language": "python",
   "name": "python3"
  },
  "language_info": {
   "codemirror_mode": {
    "name": "ipython",
    "version": 3
   },
   "file_extension": ".py",
   "mimetype": "text/x-python",
   "name": "python",
   "nbconvert_exporter": "python",
   "pygments_lexer": "ipython3",
   "version": "3.10.12"
  },
  "papermill": {
   "default_parameters": {},
   "duration": 310.085764,
   "end_time": "2023-07-16T08:12:22.705153",
   "environment_variables": {},
   "exception": null,
   "input_path": "__notebook__.ipynb",
   "output_path": "__notebook__.ipynb",
   "parameters": {},
   "start_time": "2023-07-16T08:07:12.619389",
   "version": "2.4.0"
  }
 },
 "nbformat": 4,
 "nbformat_minor": 5
}
